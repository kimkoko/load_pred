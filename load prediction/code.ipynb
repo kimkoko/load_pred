{
 "cells": [
  {
   "cell_type": "code",
   "execution_count": 31,
   "id": "6d914766",
   "metadata": {},
   "outputs": [],
   "source": [
    "import pandas as pd\n",
    "import numpy as np\n",
    "import matplotlib.pyplot as plt\n",
    "from sklearn.metrics import mean_squared_error, r2_score\n",
    "from sklearn.preprocessing import MinMaxScaler\n",
    "from sklearn.linear_model import LinearRegression"
   ]
  },
  {
   "cell_type": "code",
   "execution_count": 107,
   "id": "ef034cd3",
   "metadata": {},
   "outputs": [
    {
     "name": "stdout",
     "output_type": "stream",
     "text": [
      "<class 'pandas.core.frame.DataFrame'>\n",
      "RangeIndex: 27000 entries, 0 to 26999\n",
      "Data columns (total 24 columns):\n",
      " #   Column                       Non-Null Count  Dtype  \n",
      "---  ------                       --------------  -----  \n",
      " 0   Customer ID                  27000 non-null  object \n",
      " 1   Name                         27000 non-null  object \n",
      " 2   Gender                       26957 non-null  object \n",
      " 3   Age                          27000 non-null  int64  \n",
      " 4   Income (USD)                 22867 non-null  float64\n",
      " 5   Income Stability             25494 non-null  object \n",
      " 6   Profession                   27000 non-null  object \n",
      " 7   Type of Employment           20456 non-null  object \n",
      " 8   Location                     27000 non-null  object \n",
      " 9   Loan Amount Request (USD)    27000 non-null  float64\n",
      " 10  Current Loan Expenses (USD)  26840 non-null  float64\n",
      " 11  Expense Type 1               27000 non-null  object \n",
      " 12  Expense Type 2               27000 non-null  object \n",
      " 13  Dependents                   24759 non-null  float64\n",
      " 14  Credit Score                 25473 non-null  float64\n",
      " 15  No. of Defaults              27000 non-null  int64  \n",
      " 16  Has Active Credit Card       25575 non-null  object \n",
      " 17  Property ID                  27000 non-null  int64  \n",
      " 18  Property Age                 22621 non-null  float64\n",
      " 19  Property Type                27000 non-null  int64  \n",
      " 20  Property Location            26693 non-null  object \n",
      " 21  Co-Applicant                 27000 non-null  int64  \n",
      " 22  Property Price               27000 non-null  float64\n",
      " 23  Loan Amount                  26705 non-null  float64\n",
      "dtypes: float64(8), int64(5), object(11)\n",
      "memory usage: 4.9+ MB\n"
     ]
    }
   ],
   "source": [
    "df = pd.read_csv('train.csv')\n",
    "df.info()"
   ]
  },
  {
   "cell_type": "code",
   "execution_count": 64,
   "id": "93122dd4",
   "metadata": {},
   "outputs": [
    {
     "name": "stdout",
     "output_type": "stream",
     "text": [
      "<class 'pandas.core.frame.DataFrame'>\n",
      "RangeIndex: 27000 entries, 0 to 26999\n",
      "Data columns (total 22 columns):\n",
      " #   Column                       Non-Null Count  Dtype  \n",
      "---  ------                       --------------  -----  \n",
      " 0   Gender                       26957 non-null  object \n",
      " 1   Age                          27000 non-null  int64  \n",
      " 2   Income (USD)                 22867 non-null  float64\n",
      " 3   Income Stability             25494 non-null  object \n",
      " 4   Profession                   27000 non-null  object \n",
      " 5   Type of Employment           20456 non-null  object \n",
      " 6   Location                     27000 non-null  object \n",
      " 7   Loan Amount Request (USD)    27000 non-null  float64\n",
      " 8   Current Loan Expenses (USD)  26840 non-null  float64\n",
      " 9   Expense Type 1               27000 non-null  object \n",
      " 10  Expense Type 2               27000 non-null  object \n",
      " 11  Dependents                   24759 non-null  float64\n",
      " 12  Credit Score                 25473 non-null  float64\n",
      " 13  No. of Defaults              27000 non-null  int64  \n",
      " 14  Has Active Credit Card       25575 non-null  object \n",
      " 15  Property ID                  27000 non-null  int64  \n",
      " 16  Property Age                 22621 non-null  float64\n",
      " 17  Property Type                27000 non-null  int64  \n",
      " 18  Property Location            26693 non-null  object \n",
      " 19  Co-Applicant                 27000 non-null  int64  \n",
      " 20  Property Price               27000 non-null  float64\n",
      " 21  Loan Amount                  26705 non-null  float64\n",
      "dtypes: float64(8), int64(5), object(9)\n",
      "memory usage: 4.5+ MB\n"
     ]
    }
   ],
   "source": [
    "df1 = df.drop('Customer ID', axis=1)\n",
    "df1 = df1.drop('Name', axis=1)\n",
    "df1.info()"
   ]
  },
  {
   "cell_type": "code",
   "execution_count": 65,
   "id": "38146196",
   "metadata": {},
   "outputs": [
    {
     "data": {
      "text/plain": [
       "Gender                           43\n",
       "Age                               0\n",
       "Income (USD)                   4133\n",
       "Income Stability               1506\n",
       "Profession                        0\n",
       "Type of Employment             6544\n",
       "Location                          0\n",
       "Loan Amount Request (USD)         0\n",
       "Current Loan Expenses (USD)     160\n",
       "Expense Type 1                    0\n",
       "Expense Type 2                    0\n",
       "Dependents                     2241\n",
       "Credit Score                   1527\n",
       "No. of Defaults                   0\n",
       "Has Active Credit Card         1425\n",
       "Property ID                       0\n",
       "Property Age                   4379\n",
       "Property Type                     0\n",
       "Property Location               307\n",
       "Co-Applicant                      0\n",
       "Property Price                    0\n",
       "Loan Amount                     295\n",
       "dtype: int64"
      ]
     },
     "execution_count": 65,
     "metadata": {},
     "output_type": "execute_result"
    }
   ],
   "source": [
    "df1.isnull().sum()"
   ]
  },
  {
   "cell_type": "code",
   "execution_count": 66,
   "id": "8e0299a0",
   "metadata": {},
   "outputs": [
    {
     "data": {
      "text/plain": [
       "Gender                           43\n",
       "Age                               0\n",
       "Income (USD)                   4133\n",
       "Income Stability               1506\n",
       "Profession                        0\n",
       "Type of Employment             6544\n",
       "Location                          0\n",
       "Loan Amount Request (USD)         0\n",
       "Current Loan Expenses (USD)     325\n",
       "Expense Type 1                    0\n",
       "Expense Type 2                    0\n",
       "Dependents                     2241\n",
       "Credit Score                   1527\n",
       "No. of Defaults                   0\n",
       "Has Active Credit Card         1425\n",
       "Property ID                       0\n",
       "Property Age                   4379\n",
       "Property Type                     0\n",
       "Property Location               307\n",
       "Co-Applicant                    150\n",
       "Property Price                  313\n",
       "Loan Amount                     596\n",
       "dtype: int64"
      ]
     },
     "execution_count": 66,
     "metadata": {},
     "output_type": "execute_result"
    }
   ],
   "source": [
    "df1.loc[df1['Current Loan Expenses (USD)'] == -999.0, 'Current Loan Expenses (USD)'] = None\n",
    "df1.loc[df1['Co-Applicant'] == -999, 'Co-Applicant'] = None\n",
    "df1.loc[df1['Property Price'] == -999.0, 'Property Price'] = None\n",
    "df1.loc[df1['Loan Amount'] == -999.0, 'Loan Amount'] = None\n",
    "df1.isnull().sum()"
   ]
  },
  {
   "cell_type": "code",
   "execution_count": 53,
   "id": "4d652d4c",
   "metadata": {
    "scrolled": true
   },
   "outputs": [
    {
     "data": {
      "image/png": "[encoded data removed]",
      "text/plain": [
       "<Figure size 432x288 with 1 Axes>"
      ]
     },
     "metadata": {
      "needs_background": "light"
     },
     "output_type": "display_data"
    },
    {
     "data": {
      "image/png": "[encoded data removed]",
      "text/plain": [
       "<Figure size 432x288 with 1 Axes>"
      ]
     },
     "metadata": {
      "needs_background": "light"
     },
     "output_type": "display_data"
    },
    {
     "data": {
      "image/png": "[encoded data removed]",
      "text/plain": [
       "<Figure size 432x288 with 1 Axes>"
      ]
     },
     "metadata": {
      "needs_background": "light"
     },
     "output_type": "display_data"
    },
    {
     "data": {
      "image/png": "[encoded data removed]",
      "text/plain": [
       "<Figure size 432x288 with 1 Axes>"
      ]
     },
     "metadata": {
      "needs_background": "light"
     },
     "output_type": "display_data"
    },
    {
     "data": {
      "image/png": "[encoded data removed]",
      "text/plain": [
       "<Figure size 432x288 with 1 Axes>"
      ]
     },
     "metadata": {
      "needs_background": "light"
     },
     "output_type": "display_data"
    },
    {
     "data": {
      "image/png": "[encoded data removed]",
      "text/plain": [
       "<Figure size 432x288 with 1 Axes>"
      ]
     },
     "metadata": {
      "needs_background": "light"
     },
     "output_type": "display_data"
    },
    {
     "data": {
      "image/png": "[encoded data removed]",
      "text/plain": [
       "<Figure size 432x288 with 1 Axes>"
      ]
     },
     "metadata": {
      "needs_background": "light"
     },
     "output_type": "display_data"
    }
   ],
   "source": [
    "df1['Gender'].value_counts().plot(kind='bar')\n",
    "plt.show()\n",
    "df1['Income Stability'].value_counts().plot(kind='bar')\n",
    "plt.show()\n",
    "df1['Dependents'].value_counts().plot(kind='bar')\n",
    "plt.show()\n",
    "df1['Type of Employment'].value_counts().plot(kind='bar')\n",
    "plt.show()\n",
    "df1['Has Active Credit Card'].value_counts().plot(kind='bar')\n",
    "plt.show()\n",
    "df1['Property Location'].value_counts().plot(kind='bar')\n",
    "plt.show()\n",
    "df1['Co-Applicant'].value_counts().plot(kind='bar')\n",
    "plt.show()"
   ]
  },
  {
   "cell_type": "code",
   "execution_count": 67,
   "id": "2dfe6389",
   "metadata": {},
   "outputs": [
    {
     "data": {
      "text/plain": [
       "Gender                           0\n",
       "Age                              0\n",
       "Income (USD)                     0\n",
       "Income Stability                 0\n",
       "Profession                       0\n",
       "Type of Employment               0\n",
       "Location                         0\n",
       "Loan Amount Request (USD)        0\n",
       "Current Loan Expenses (USD)      0\n",
       "Expense Type 1                   0\n",
       "Expense Type 2                   0\n",
       "Dependents                       0\n",
       "Credit Score                     0\n",
       "No. of Defaults                  0\n",
       "Has Active Credit Card           0\n",
       "Property ID                      0\n",
       "Property Age                     0\n",
       "Property Type                    0\n",
       "Property Location                0\n",
       "Co-Applicant                     0\n",
       "Property Price                   0\n",
       "Loan Amount                    596\n",
       "dtype: int64"
      ]
     },
     "execution_count": 67,
     "metadata": {},
     "output_type": "execute_result"
    }
   ],
   "source": [
    "df1['Gender'] = df1['Gender'].fillna('M')\n",
    "df1['Income (USD)'] = df1['Income (USD)'].fillna(df1['Income (USD)'].mean())\n",
    "df1['Income Stability'] = df1['Income Stability'].fillna('Low')\n",
    "df1['Type of Employment'] = df1['Type of Employment'].fillna('Laborers')\n",
    "df1['Dependents'] = df1['Dependents'].fillna(2.0)\n",
    "df1['Credit Score'] = df1['Credit Score'].fillna(df1['Credit Score'].mean())\n",
    "df1['Property Age'] = df1['Property Age'].fillna(df1['Property Age'].mean())\n",
    "df1['Co-Applicant'] = df1['Co-Applicant'].fillna(1)\n",
    "df1['Property Price'] = df1['Property Price'].fillna(df1['Property Price'].mean())\n",
    "df1['Current Loan Expenses (USD)'] = df1['Current Loan Expenses (USD)'].fillna(df1['Current Loan Expenses (USD)'].mean())\n",
    "df1['Has Active Credit Card'] = df1['Has Active Credit Card'].fillna('Active')\n",
    "df1['Property Location'] = df1['Property Location'].fillna('Semi-Urban')\n",
    "df1.isnull().sum()\n"
   ]
  },
  {
   "cell_type": "code",
   "execution_count": 68,
   "id": "25af3af8",
   "metadata": {},
   "outputs": [
    {
     "name": "stdout",
     "output_type": "stream",
     "text": [
      "<class 'pandas.core.frame.DataFrame'>\n",
      "RangeIndex: 27000 entries, 0 to 26999\n",
      "Data columns (total 22 columns):\n",
      " #   Column                       Non-Null Count  Dtype  \n",
      "---  ------                       --------------  -----  \n",
      " 0   Gender                       27000 non-null  object \n",
      " 1   Age                          27000 non-null  int64  \n",
      " 2   Income (USD)                 27000 non-null  float64\n",
      " 3   Income Stability             27000 non-null  object \n",
      " 4   Profession                   27000 non-null  object \n",
      " 5   Type of Employment           27000 non-null  object \n",
      " 6   Location                     27000 non-null  object \n",
      " 7   Loan Amount Request (USD)    27000 non-null  float64\n",
      " 8   Current Loan Expenses (USD)  27000 non-null  float64\n",
      " 9   Expense Type 1               27000 non-null  object \n",
      " 10  Expense Type 2               27000 non-null  object \n",
      " 11  Dependents                   27000 non-null  float64\n",
      " 12  Credit Score                 27000 non-null  float64\n",
      " 13  No. of Defaults              27000 non-null  int64  \n",
      " 14  Has Active Credit Card       27000 non-null  object \n",
      " 15  Property ID                  27000 non-null  int64  \n",
      " 16  Property Age                 27000 non-null  float64\n",
      " 17  Property Type                27000 non-null  int64  \n",
      " 18  Property Location            27000 non-null  object \n",
      " 19  Co-Applicant                 27000 non-null  float64\n",
      " 20  Property Price               27000 non-null  float64\n",
      " 21  Loan Amount                  26404 non-null  float64\n",
      "dtypes: float64(9), int64(4), object(9)\n",
      "memory usage: 4.5+ MB\n"
     ]
    }
   ],
   "source": [
    "df1.info()"
   ]
  },
  {
   "cell_type": "code",
   "execution_count": 69,
   "id": "2e5b3f4b",
   "metadata": {},
   "outputs": [
    {
     "name": "stdout",
     "output_type": "stream",
     "text": [
      "(26404, 22)\n"
     ]
    },
    {
     "data": {
      "text/plain": [
       "Gender                         0\n",
       "Age                            0\n",
       "Income (USD)                   0\n",
       "Income Stability               0\n",
       "Profession                     0\n",
       "Type of Employment             0\n",
       "Location                       0\n",
       "Loan Amount Request (USD)      0\n",
       "Current Loan Expenses (USD)    0\n",
       "Expense Type 1                 0\n",
       "Expense Type 2                 0\n",
       "Dependents                     0\n",
       "Credit Score                   0\n",
       "No. of Defaults                0\n",
       "Has Active Credit Card         0\n",
       "Property ID                    0\n",
       "Property Age                   0\n",
       "Property Type                  0\n",
       "Property Location              0\n",
       "Co-Applicant                   0\n",
       "Property Price                 0\n",
       "Loan Amount                    0\n",
       "dtype: int64"
      ]
     },
     "execution_count": 69,
     "metadata": {},
     "output_type": "execute_result"
    }
   ],
   "source": [
    "df2 = df1.dropna(axis=0)[['Gender','Age', 'Income (USD)', 'Income Stability', 'Profession','Type of Employment',    \n",
    "                          'Location', 'Loan Amount Request (USD)', 'Current Loan Expenses (USD)', 'Expense Type 1', \n",
    "                          'Expense Type 2', 'Dependents', 'Credit Score', 'No. of Defaults', 'Has Active Credit Card',\n",
    "                          'Property ID','Property Age', 'Property Type', 'Property Location', 'Co-Applicant', \n",
    "                          'Property Price', 'Loan Amount']]\n",
    "print(df2.shape)\n",
    "df2.isnull().sum()"
   ]
  },
  {
   "cell_type": "code",
   "execution_count": 70,
   "id": "b49fcee7",
   "metadata": {},
   "outputs": [
    {
     "name": "stdout",
     "output_type": "stream",
     "text": [
      "<class 'pandas.core.frame.DataFrame'>\n",
      "Int64Index: 26404 entries, 0 to 26999\n",
      "Data columns (total 22 columns):\n",
      " #   Column                       Non-Null Count  Dtype  \n",
      "---  ------                       --------------  -----  \n",
      " 0   Gender                       26404 non-null  object \n",
      " 1   Age                          26404 non-null  int64  \n",
      " 2   Income (USD)                 26404 non-null  float64\n",
      " 3   Income Stability             26404 non-null  object \n",
      " 4   Profession                   26404 non-null  object \n",
      " 5   Type of Employment           26404 non-null  object \n",
      " 6   Location                     26404 non-null  object \n",
      " 7   Loan Amount Request (USD)    26404 non-null  float64\n",
      " 8   Current Loan Expenses (USD)  26404 non-null  float64\n",
      " 9   Expense Type 1               26404 non-null  object \n",
      " 10  Expense Type 2               26404 non-null  object \n",
      " 11  Dependents                   26404 non-null  float64\n",
      " 12  Credit Score                 26404 non-null  float64\n",
      " 13  No. of Defaults              26404 non-null  int64  \n",
      " 14  Has Active Credit Card       26404 non-null  object \n",
      " 15  Property ID                  26404 non-null  int64  \n",
      " 16  Property Age                 26404 non-null  float64\n",
      " 17  Property Type                26404 non-null  int64  \n",
      " 18  Property Location            26404 non-null  object \n",
      " 19  Co-Applicant                 26404 non-null  float64\n",
      " 20  Property Price               26404 non-null  float64\n",
      " 21  Loan Amount                  26404 non-null  float64\n",
      "dtypes: float64(9), int64(4), object(9)\n",
      "memory usage: 4.6+ MB\n"
     ]
    }
   ],
   "source": [
    "df2.info()"
   ]
  },
  {
   "cell_type": "code",
   "execution_count": 71,
   "id": "087de956",
   "metadata": {},
   "outputs": [
    {
     "data": {
      "text/plain": [
       "((26404, 21), (26404, 1))"
      ]
     },
     "execution_count": 71,
     "metadata": {},
     "output_type": "execute_result"
    }
   ],
   "source": [
    "x_train = df2[['Gender','Age', 'Income (USD)', 'Income Stability', 'Profession', 'Type of Employment', 'Location',   \n",
    "                          'Loan Amount Request (USD)', 'Current Loan Expenses (USD)', 'Expense Type 1', \n",
    "                          'Expense Type 2', 'Dependents', 'Credit Score', 'No. of Defaults', 'Has Active Credit Card',\n",
    "                          'Property ID','Property Age', 'Property Type', 'Property Location', 'Co-Applicant', \n",
    "                          'Property Price']]\n",
    "y_train = df2[['Loan Amount']]\n",
    "x_train.shape, y_train.shape"
   ]
  },
  {
   "cell_type": "code",
   "execution_count": 92,
   "id": "39d22450",
   "metadata": {
    "scrolled": true
   },
   "outputs": [
    {
     "name": "stdout",
     "output_type": "stream",
     "text": [
      "<class 'pandas.core.frame.DataFrame'>\n",
      "Int64Index: 26404 entries, 0 to 26999\n",
      "Data columns (total 55 columns):\n",
      " #   Column                                    Non-Null Count  Dtype  \n",
      "---  ------                                    --------------  -----  \n",
      " 0   Age                                       26404 non-null  int64  \n",
      " 1   Income (USD)                              26404 non-null  float64\n",
      " 2   Loan Amount Request (USD)                 26404 non-null  float64\n",
      " 3   Current Loan Expenses (USD)               26404 non-null  float64\n",
      " 4   Dependents                                26404 non-null  float64\n",
      " 5   Credit Score                              26404 non-null  float64\n",
      " 6   No. of Defaults                           26404 non-null  int64  \n",
      " 7   Property ID                               26404 non-null  int64  \n",
      " 8   Property Age                              26404 non-null  float64\n",
      " 9   Property Type                             26404 non-null  int64  \n",
      " 10  Co-Applicant                              26404 non-null  float64\n",
      " 11  Property Price                            26404 non-null  float64\n",
      " 12  Gender_F                                  26404 non-null  uint8  \n",
      " 13  Gender_M                                  26404 non-null  uint8  \n",
      " 14  Income Stability_High                     26404 non-null  uint8  \n",
      " 15  Income Stability_Low                      26404 non-null  uint8  \n",
      " 16  Profession_Businessman                    26404 non-null  uint8  \n",
      " 17  Profession_Commercial associate           26404 non-null  uint8  \n",
      " 18  Profession_Maternity leave                26404 non-null  uint8  \n",
      " 19  Profession_Pensioner                      26404 non-null  uint8  \n",
      " 20  Profession_State servant                  26404 non-null  uint8  \n",
      " 21  Profession_Student                        26404 non-null  uint8  \n",
      " 22  Profession_Unemployed                     26404 non-null  uint8  \n",
      " 23  Profession_Working                        26404 non-null  uint8  \n",
      " 24  Type of Employment_Accountants            26404 non-null  uint8  \n",
      " 25  Type of Employment_Cleaning staff         26404 non-null  uint8  \n",
      " 26  Type of Employment_Cooking staff          26404 non-null  uint8  \n",
      " 27  Type of Employment_Core staff             26404 non-null  uint8  \n",
      " 28  Type of Employment_Drivers                26404 non-null  uint8  \n",
      " 29  Type of Employment_HR staff               26404 non-null  uint8  \n",
      " 30  Type of Employment_High skill tech staff  26404 non-null  uint8  \n",
      " 31  Type of Employment_IT staff               26404 non-null  uint8  \n",
      " 32  Type of Employment_Laborers               26404 non-null  uint8  \n",
      " 33  Type of Employment_Low-skill Laborers     26404 non-null  uint8  \n",
      " 34  Type of Employment_Managers               26404 non-null  uint8  \n",
      " 35  Type of Employment_Medicine staff         26404 non-null  uint8  \n",
      " 36  Type of Employment_Private service staff  26404 non-null  uint8  \n",
      " 37  Type of Employment_Realty agents          26404 non-null  uint8  \n",
      " 38  Type of Employment_Sales staff            26404 non-null  uint8  \n",
      " 39  Type of Employment_Secretaries            26404 non-null  uint8  \n",
      " 40  Type of Employment_Security staff         26404 non-null  uint8  \n",
      " 41  Type of Employment_Waiters/barmen staff   26404 non-null  uint8  \n",
      " 42  Location_Rural                            26404 non-null  uint8  \n",
      " 43  Location_Semi-Urban                       26404 non-null  uint8  \n",
      " 44  Location_Urban                            26404 non-null  uint8  \n",
      " 45  Expense Type 1_N                          26404 non-null  uint8  \n",
      " 46  Expense Type 1_Y                          26404 non-null  uint8  \n",
      " 47  Expense Type 2_N                          26404 non-null  uint8  \n",
      " 48  Expense Type 2_Y                          26404 non-null  uint8  \n",
      " 49  Has Active Credit Card_Active             26404 non-null  uint8  \n",
      " 50  Has Active Credit Card_Inactive           26404 non-null  uint8  \n",
      " 51  Has Active Credit Card_Unpossessed        26404 non-null  uint8  \n",
      " 52  Property Location_Rural                   26404 non-null  uint8  \n",
      " 53  Property Location_Semi-Urban              26404 non-null  uint8  \n",
      " 54  Property Location_Urban                   26404 non-null  uint8  \n",
      "dtypes: float64(8), int64(4), uint8(43)\n",
      "memory usage: 3.7 MB\n"
     ]
    }
   ],
   "source": [
    "cols = x_train.select_dtypes('object').columns.values\n",
    "cols\n",
    "x_train1 = pd.get_dummies(data=x_train, columns=cols)\n",
    "x_train1.info()"
   ]
  },
  {
   "cell_type": "code",
   "execution_count": 93,
   "id": "984d969e",
   "metadata": {},
   "outputs": [
    {
     "data": {
      "text/plain": [
       "LinearRegression()"
      ]
     },
     "execution_count": 93,
     "metadata": {},
     "output_type": "execute_result"
    }
   ],
   "source": [
    "scaler = MinMaxScaler()\n",
    "x_train1 = scaler.fit_transform(x_train1)\n",
    "model = LinearRegression()\n",
    "model.fit(x_train1, y_train)"
   ]
  },
  {
   "cell_type": "code",
   "execution_count": 94,
   "id": "2f8976ff",
   "metadata": {},
   "outputs": [
    {
     "data": {
      "text/plain": [
       "0.6597095293647716"
      ]
     },
     "execution_count": 94,
     "metadata": {},
     "output_type": "execute_result"
    }
   ],
   "source": [
    "model.score(x_train1,y_train)"
   ]
  },
  {
   "cell_type": "code",
   "execution_count": 106,
   "id": "6a30e18b",
   "metadata": {},
   "outputs": [
    {
     "ename": "FileNotFoundError",
     "evalue": "[Errno 2] No such file or directory: '/test.csv'",
     "output_type": "error",
     "traceback": [
      "\u001b[0;31m---------------------------------------------------------------------------\u001b[0m",
      "\u001b[0;31mFileNotFoundError\u001b[0m                         Traceback (most recent call last)",
      "\u001b[0;32m/var/folders/cc/kt6x9vys2md0sh0vkycn0pth0000gn/T/ipykernel_13376/1545027611.py\u001b[0m in \u001b[0;36m<module>\u001b[0;34m\u001b[0m\n\u001b[0;32m----> 1\u001b[0;31m \u001b[0mtd\u001b[0m \u001b[0;34m=\u001b[0m \u001b[0mpd\u001b[0m\u001b[0;34m.\u001b[0m\u001b[0mread_csv\u001b[0m\u001b[0;34m(\u001b[0m\u001b[0;34m'/test.csv'\u001b[0m\u001b[0;34m)\u001b[0m\u001b[0;34m\u001b[0m\u001b[0;34m\u001b[0m\u001b[0m\n\u001b[0m\u001b[1;32m      2\u001b[0m \u001b[0mtd\u001b[0m\u001b[0;34m.\u001b[0m\u001b[0minfo\u001b[0m\u001b[0;34m(\u001b[0m\u001b[0;34m)\u001b[0m\u001b[0;34m\u001b[0m\u001b[0;34m\u001b[0m\u001b[0m\n",
      "\u001b[0;32m~/opt/anaconda3/lib/python3.9/site-packages/pandas/util/_decorators.py\u001b[0m in \u001b[0;36mwrapper\u001b[0;34m(*args, **kwargs)\u001b[0m\n\u001b[1;32m    309\u001b[0m                     \u001b[0mstacklevel\u001b[0m\u001b[0;34m=\u001b[0m\u001b[0mstacklevel\u001b[0m\u001b[0;34m,\u001b[0m\u001b[0;34m\u001b[0m\u001b[0;34m\u001b[0m\u001b[0m\n\u001b[1;32m    310\u001b[0m                 )\n\u001b[0;32m--> 311\u001b[0;31m             \u001b[0;32mreturn\u001b[0m \u001b[0mfunc\u001b[0m\u001b[0;34m(\u001b[0m\u001b[0;34m*\u001b[0m\u001b[0margs\u001b[0m\u001b[0;34m,\u001b[0m \u001b[0;34m**\u001b[0m\u001b[0mkwargs\u001b[0m\u001b[0;34m)\u001b[0m\u001b[0;34m\u001b[0m\u001b[0;34m\u001b[0m\u001b[0m\n\u001b[0m\u001b[1;32m    312\u001b[0m \u001b[0;34m\u001b[0m\u001b[0m\n\u001b[1;32m    313\u001b[0m         \u001b[0;32mreturn\u001b[0m \u001b[0mwrapper\u001b[0m\u001b[0;34m\u001b[0m\u001b[0;34m\u001b[0m\u001b[0m\n",
      "\u001b[0;32m~/opt/anaconda3/lib/python3.9/site-packages/pandas/io/parsers/readers.py\u001b[0m in \u001b[0;36mread_csv\u001b[0;34m(filepath_or_buffer, sep, delimiter, header, names, index_col, usecols, squeeze, prefix, mangle_dupe_cols, dtype, engine, converters, true_values, false_values, skipinitialspace, skiprows, skipfooter, nrows, na_values, keep_default_na, na_filter, verbose, skip_blank_lines, parse_dates, infer_datetime_format, keep_date_col, date_parser, dayfirst, cache_dates, iterator, chunksize, compression, thousands, decimal, lineterminator, quotechar, quoting, doublequote, escapechar, comment, encoding, encoding_errors, dialect, error_bad_lines, warn_bad_lines, on_bad_lines, delim_whitespace, low_memory, memory_map, float_precision, storage_options)\u001b[0m\n\u001b[1;32m    584\u001b[0m     \u001b[0mkwds\u001b[0m\u001b[0;34m.\u001b[0m\u001b[0mupdate\u001b[0m\u001b[0;34m(\u001b[0m\u001b[0mkwds_defaults\u001b[0m\u001b[0;34m)\u001b[0m\u001b[0;34m\u001b[0m\u001b[0;34m\u001b[0m\u001b[0m\n\u001b[1;32m    585\u001b[0m \u001b[0;34m\u001b[0m\u001b[0m\n\u001b[0;32m--> 586\u001b[0;31m     \u001b[0;32mreturn\u001b[0m \u001b[0m_read\u001b[0m\u001b[0;34m(\u001b[0m\u001b[0mfilepath_or_buffer\u001b[0m\u001b[0;34m,\u001b[0m \u001b[0mkwds\u001b[0m\u001b[0;34m)\u001b[0m\u001b[0;34m\u001b[0m\u001b[0;34m\u001b[0m\u001b[0m\n\u001b[0m\u001b[1;32m    587\u001b[0m \u001b[0;34m\u001b[0m\u001b[0m\n\u001b[1;32m    588\u001b[0m \u001b[0;34m\u001b[0m\u001b[0m\n",
      "\u001b[0;32m~/opt/anaconda3/lib/python3.9/site-packages/pandas/io/parsers/readers.py\u001b[0m in \u001b[0;36m_read\u001b[0;34m(filepath_or_buffer, kwds)\u001b[0m\n\u001b[1;32m    480\u001b[0m \u001b[0;34m\u001b[0m\u001b[0m\n\u001b[1;32m    481\u001b[0m     \u001b[0;31m# Create the parser.\u001b[0m\u001b[0;34m\u001b[0m\u001b[0;34m\u001b[0m\u001b[0m\n\u001b[0;32m--> 482\u001b[0;31m     \u001b[0mparser\u001b[0m \u001b[0;34m=\u001b[0m \u001b[0mTextFileReader\u001b[0m\u001b[0;34m(\u001b[0m\u001b[0mfilepath_or_buffer\u001b[0m\u001b[0;34m,\u001b[0m \u001b[0;34m**\u001b[0m\u001b[0mkwds\u001b[0m\u001b[0;34m)\u001b[0m\u001b[0;34m\u001b[0m\u001b[0;34m\u001b[0m\u001b[0m\n\u001b[0m\u001b[1;32m    483\u001b[0m \u001b[0;34m\u001b[0m\u001b[0m\n\u001b[1;32m    484\u001b[0m     \u001b[0;32mif\u001b[0m \u001b[0mchunksize\u001b[0m \u001b[0;32mor\u001b[0m \u001b[0miterator\u001b[0m\u001b[0;34m:\u001b[0m\u001b[0;34m\u001b[0m\u001b[0;34m\u001b[0m\u001b[0m\n",
      "\u001b[0;32m~/opt/anaconda3/lib/python3.9/site-packages/pandas/io/parsers/readers.py\u001b[0m in \u001b[0;36m__init__\u001b[0;34m(self, f, engine, **kwds)\u001b[0m\n\u001b[1;32m    809\u001b[0m             \u001b[0mself\u001b[0m\u001b[0;34m.\u001b[0m\u001b[0moptions\u001b[0m\u001b[0;34m[\u001b[0m\u001b[0;34m\"has_index_names\"\u001b[0m\u001b[0;34m]\u001b[0m \u001b[0;34m=\u001b[0m \u001b[0mkwds\u001b[0m\u001b[0;34m[\u001b[0m\u001b[0;34m\"has_index_names\"\u001b[0m\u001b[0;34m]\u001b[0m\u001b[0;34m\u001b[0m\u001b[0;34m\u001b[0m\u001b[0m\n\u001b[1;32m    810\u001b[0m \u001b[0;34m\u001b[0m\u001b[0m\n\u001b[0;32m--> 811\u001b[0;31m         \u001b[0mself\u001b[0m\u001b[0;34m.\u001b[0m\u001b[0m_engine\u001b[0m \u001b[0;34m=\u001b[0m \u001b[0mself\u001b[0m\u001b[0;34m.\u001b[0m\u001b[0m_make_engine\u001b[0m\u001b[0;34m(\u001b[0m\u001b[0mself\u001b[0m\u001b[0;34m.\u001b[0m\u001b[0mengine\u001b[0m\u001b[0;34m)\u001b[0m\u001b[0;34m\u001b[0m\u001b[0;34m\u001b[0m\u001b[0m\n\u001b[0m\u001b[1;32m    812\u001b[0m \u001b[0;34m\u001b[0m\u001b[0m\n\u001b[1;32m    813\u001b[0m     \u001b[0;32mdef\u001b[0m \u001b[0mclose\u001b[0m\u001b[0;34m(\u001b[0m\u001b[0mself\u001b[0m\u001b[0;34m)\u001b[0m\u001b[0;34m:\u001b[0m\u001b[0;34m\u001b[0m\u001b[0;34m\u001b[0m\u001b[0m\n",
      "\u001b[0;32m~/opt/anaconda3/lib/python3.9/site-packages/pandas/io/parsers/readers.py\u001b[0m in \u001b[0;36m_make_engine\u001b[0;34m(self, engine)\u001b[0m\n\u001b[1;32m   1038\u001b[0m             )\n\u001b[1;32m   1039\u001b[0m         \u001b[0;31m# error: Too many arguments for \"ParserBase\"\u001b[0m\u001b[0;34m\u001b[0m\u001b[0;34m\u001b[0m\u001b[0m\n\u001b[0;32m-> 1040\u001b[0;31m         \u001b[0;32mreturn\u001b[0m \u001b[0mmapping\u001b[0m\u001b[0;34m[\u001b[0m\u001b[0mengine\u001b[0m\u001b[0;34m]\u001b[0m\u001b[0;34m(\u001b[0m\u001b[0mself\u001b[0m\u001b[0;34m.\u001b[0m\u001b[0mf\u001b[0m\u001b[0;34m,\u001b[0m \u001b[0;34m**\u001b[0m\u001b[0mself\u001b[0m\u001b[0;34m.\u001b[0m\u001b[0moptions\u001b[0m\u001b[0;34m)\u001b[0m  \u001b[0;31m# type: ignore[call-arg]\u001b[0m\u001b[0;34m\u001b[0m\u001b[0;34m\u001b[0m\u001b[0m\n\u001b[0m\u001b[1;32m   1041\u001b[0m \u001b[0;34m\u001b[0m\u001b[0m\n\u001b[1;32m   1042\u001b[0m     \u001b[0;32mdef\u001b[0m \u001b[0m_failover_to_python\u001b[0m\u001b[0;34m(\u001b[0m\u001b[0mself\u001b[0m\u001b[0;34m)\u001b[0m\u001b[0;34m:\u001b[0m\u001b[0;34m\u001b[0m\u001b[0;34m\u001b[0m\u001b[0m\n",
      "\u001b[0;32m~/opt/anaconda3/lib/python3.9/site-packages/pandas/io/parsers/c_parser_wrapper.py\u001b[0m in \u001b[0;36m__init__\u001b[0;34m(self, src, **kwds)\u001b[0m\n\u001b[1;32m     49\u001b[0m \u001b[0;34m\u001b[0m\u001b[0m\n\u001b[1;32m     50\u001b[0m         \u001b[0;31m# open handles\u001b[0m\u001b[0;34m\u001b[0m\u001b[0;34m\u001b[0m\u001b[0m\n\u001b[0;32m---> 51\u001b[0;31m         \u001b[0mself\u001b[0m\u001b[0;34m.\u001b[0m\u001b[0m_open_handles\u001b[0m\u001b[0;34m(\u001b[0m\u001b[0msrc\u001b[0m\u001b[0;34m,\u001b[0m \u001b[0mkwds\u001b[0m\u001b[0;34m)\u001b[0m\u001b[0;34m\u001b[0m\u001b[0;34m\u001b[0m\u001b[0m\n\u001b[0m\u001b[1;32m     52\u001b[0m         \u001b[0;32massert\u001b[0m \u001b[0mself\u001b[0m\u001b[0;34m.\u001b[0m\u001b[0mhandles\u001b[0m \u001b[0;32mis\u001b[0m \u001b[0;32mnot\u001b[0m \u001b[0;32mNone\u001b[0m\u001b[0;34m\u001b[0m\u001b[0;34m\u001b[0m\u001b[0m\n\u001b[1;32m     53\u001b[0m \u001b[0;34m\u001b[0m\u001b[0m\n",
      "\u001b[0;32m~/opt/anaconda3/lib/python3.9/site-packages/pandas/io/parsers/base_parser.py\u001b[0m in \u001b[0;36m_open_handles\u001b[0;34m(self, src, kwds)\u001b[0m\n\u001b[1;32m    220\u001b[0m         \u001b[0mLet\u001b[0m \u001b[0mthe\u001b[0m \u001b[0mreaders\u001b[0m \u001b[0mopen\u001b[0m \u001b[0mIOHandles\u001b[0m \u001b[0mafter\u001b[0m \u001b[0mthey\u001b[0m \u001b[0mare\u001b[0m \u001b[0mdone\u001b[0m \u001b[0;32mwith\u001b[0m \u001b[0mtheir\u001b[0m \u001b[0mpotential\u001b[0m \u001b[0mraises\u001b[0m\u001b[0;34m.\u001b[0m\u001b[0;34m\u001b[0m\u001b[0;34m\u001b[0m\u001b[0m\n\u001b[1;32m    221\u001b[0m         \"\"\"\n\u001b[0;32m--> 222\u001b[0;31m         self.handles = get_handle(\n\u001b[0m\u001b[1;32m    223\u001b[0m             \u001b[0msrc\u001b[0m\u001b[0;34m,\u001b[0m\u001b[0;34m\u001b[0m\u001b[0;34m\u001b[0m\u001b[0m\n\u001b[1;32m    224\u001b[0m             \u001b[0;34m\"r\"\u001b[0m\u001b[0;34m,\u001b[0m\u001b[0;34m\u001b[0m\u001b[0;34m\u001b[0m\u001b[0m\n",
      "\u001b[0;32m~/opt/anaconda3/lib/python3.9/site-packages/pandas/io/common.py\u001b[0m in \u001b[0;36mget_handle\u001b[0;34m(path_or_buf, mode, encoding, compression, memory_map, is_text, errors, storage_options)\u001b[0m\n\u001b[1;32m    700\u001b[0m         \u001b[0;32mif\u001b[0m \u001b[0mioargs\u001b[0m\u001b[0;34m.\u001b[0m\u001b[0mencoding\u001b[0m \u001b[0;32mand\u001b[0m \u001b[0;34m\"b\"\u001b[0m \u001b[0;32mnot\u001b[0m \u001b[0;32min\u001b[0m \u001b[0mioargs\u001b[0m\u001b[0;34m.\u001b[0m\u001b[0mmode\u001b[0m\u001b[0;34m:\u001b[0m\u001b[0;34m\u001b[0m\u001b[0;34m\u001b[0m\u001b[0m\n\u001b[1;32m    701\u001b[0m             \u001b[0;31m# Encoding\u001b[0m\u001b[0;34m\u001b[0m\u001b[0;34m\u001b[0m\u001b[0m\n\u001b[0;32m--> 702\u001b[0;31m             handle = open(\n\u001b[0m\u001b[1;32m    703\u001b[0m                 \u001b[0mhandle\u001b[0m\u001b[0;34m,\u001b[0m\u001b[0;34m\u001b[0m\u001b[0;34m\u001b[0m\u001b[0m\n\u001b[1;32m    704\u001b[0m                 \u001b[0mioargs\u001b[0m\u001b[0;34m.\u001b[0m\u001b[0mmode\u001b[0m\u001b[0;34m,\u001b[0m\u001b[0;34m\u001b[0m\u001b[0;34m\u001b[0m\u001b[0m\n",
      "\u001b[0;31mFileNotFoundError\u001b[0m: [Errno 2] No such file or directory: '/test.csv'"
     ]
    }
   ],
   "source": [
    "td = pd.read_csv('test.csv')\n",
    "td.info()"
   ]
  },
  {
   "cell_type": "code",
   "execution_count": 80,
   "id": "d241e525",
   "metadata": {},
   "outputs": [
    {
     "data": {
      "text/plain": [
       "Gender                          10\n",
       "Age                              0\n",
       "Income (USD)                   443\n",
       "Income Stability               177\n",
       "Profession                       0\n",
       "Type of Employment             726\n",
       "Location                         0\n",
       "Loan Amount Request (USD)        0\n",
       "Current Loan Expenses (USD)     12\n",
       "Expense Type 1                   0\n",
       "Expense Type 2                   0\n",
       "Dependents                     252\n",
       "Credit Score                   176\n",
       "No. of Defaults                  0\n",
       "Has Active Credit Card         141\n",
       "Property ID                      0\n",
       "Property Age                   471\n",
       "Property Type                    0\n",
       "Property Location               49\n",
       "Co-Applicant                     0\n",
       "Property Price                   0\n",
       "dtype: int64"
      ]
     },
     "execution_count": 80,
     "metadata": {},
     "output_type": "execute_result"
    }
   ],
   "source": [
    "td1 = td.drop('Customer ID', axis=1)\n",
    "td1 = td1.drop('Name', axis=1)\n",
    "td1.isnull().sum()"
   ]
  },
  {
   "cell_type": "code",
   "execution_count": 81,
   "id": "8db27c35",
   "metadata": {},
   "outputs": [
    {
     "data": {
      "text/plain": [
       "Gender                          10\n",
       "Age                              0\n",
       "Income (USD)                   443\n",
       "Income Stability               177\n",
       "Profession                       0\n",
       "Type of Employment             726\n",
       "Location                         0\n",
       "Loan Amount Request (USD)        0\n",
       "Current Loan Expenses (USD)     24\n",
       "Expense Type 1                   0\n",
       "Expense Type 2                   0\n",
       "Dependents                     252\n",
       "Credit Score                   176\n",
       "No. of Defaults                  0\n",
       "Has Active Credit Card         141\n",
       "Property ID                      0\n",
       "Property Age                   471\n",
       "Property Type                    0\n",
       "Property Location               49\n",
       "Co-Applicant                    18\n",
       "Property Price                  39\n",
       "dtype: int64"
      ]
     },
     "execution_count": 81,
     "metadata": {},
     "output_type": "execute_result"
    }
   ],
   "source": [
    "td1.loc[td1['Current Loan Expenses (USD)'] == -999.0, 'Current Loan Expenses (USD)'] = None\n",
    "td1.loc[td1['Co-Applicant'] == -999, 'Co-Applicant'] = None\n",
    "td1.loc[td1['Property Price'] == -999.0, 'Property Price'] = None\n",
    "td1.isnull().sum()"
   ]
  },
  {
   "cell_type": "code",
   "execution_count": 82,
   "id": "b33d40ad",
   "metadata": {},
   "outputs": [
    {
     "data": {
      "text/plain": [
       "Gender                         0\n",
       "Age                            0\n",
       "Income (USD)                   0\n",
       "Income Stability               0\n",
       "Profession                     0\n",
       "Type of Employment             0\n",
       "Location                       0\n",
       "Loan Amount Request (USD)      0\n",
       "Current Loan Expenses (USD)    0\n",
       "Expense Type 1                 0\n",
       "Expense Type 2                 0\n",
       "Dependents                     0\n",
       "Credit Score                   0\n",
       "No. of Defaults                0\n",
       "Has Active Credit Card         0\n",
       "Property ID                    0\n",
       "Property Age                   0\n",
       "Property Type                  0\n",
       "Property Location              0\n",
       "Co-Applicant                   0\n",
       "Property Price                 0\n",
       "dtype: int64"
      ]
     },
     "execution_count": 82,
     "metadata": {},
     "output_type": "execute_result"
    }
   ],
   "source": [
    "td1['Gender'] = td1['Gender'].fillna('M')\n",
    "td1['Income (USD)'] = td1['Income (USD)'].fillna(td1['Income (USD)'].mean())\n",
    "td1['Income Stability'] = td1['Income Stability'].fillna('Low')\n",
    "td1['Type of Employment'] = td1['Type of Employment'].fillna('Laborers')\n",
    "td1['Dependents'] = td1['Dependents'].fillna(2.0)\n",
    "td1['Credit Score'] = td1['Credit Score'].fillna(td1['Credit Score'].mean())\n",
    "td1['Property Age'] = td1['Property Age'].fillna(td1['Property Age'].mean())\n",
    "td1['Co-Applicant'] = td1['Co-Applicant'].fillna(1)\n",
    "td1['Property Price'] = td1['Property Price'].fillna(td1['Property Price'].mean())\n",
    "td1['Current Loan Expenses (USD)'] = td1['Current Loan Expenses (USD)'].fillna(td1['Current Loan Expenses (USD)'].mean())\n",
    "td1['Has Active Credit Card'] = td1['Has Active Credit Card'].fillna('Active')\n",
    "td1['Property Location'] = td1['Property Location'].fillna('Semi-Urban')\n",
    "td1.isnull().sum()"
   ]
  },
  {
   "cell_type": "code",
   "execution_count": 83,
   "id": "734fb299",
   "metadata": {},
   "outputs": [
    {
     "name": "stdout",
     "output_type": "stream",
     "text": [
      "<class 'pandas.core.frame.DataFrame'>\n",
      "RangeIndex: 3000 entries, 0 to 2999\n",
      "Data columns (total 21 columns):\n",
      " #   Column                       Non-Null Count  Dtype  \n",
      "---  ------                       --------------  -----  \n",
      " 0   Gender                       3000 non-null   object \n",
      " 1   Age                          3000 non-null   int64  \n",
      " 2   Income (USD)                 3000 non-null   float64\n",
      " 3   Income Stability             3000 non-null   object \n",
      " 4   Profession                   3000 non-null   object \n",
      " 5   Type of Employment           3000 non-null   object \n",
      " 6   Location                     3000 non-null   object \n",
      " 7   Loan Amount Request (USD)    3000 non-null   float64\n",
      " 8   Current Loan Expenses (USD)  3000 non-null   float64\n",
      " 9   Expense Type 1               3000 non-null   object \n",
      " 10  Expense Type 2               3000 non-null   object \n",
      " 11  Dependents                   3000 non-null   float64\n",
      " 12  Credit Score                 3000 non-null   float64\n",
      " 13  No. of Defaults              3000 non-null   int64  \n",
      " 14  Has Active Credit Card       3000 non-null   object \n",
      " 15  Property ID                  3000 non-null   int64  \n",
      " 16  Property Age                 3000 non-null   float64\n",
      " 17  Property Type                3000 non-null   int64  \n",
      " 18  Property Location            3000 non-null   object \n",
      " 19  Co-Applicant                 3000 non-null   float64\n",
      " 20  Property Price               3000 non-null   float64\n",
      "dtypes: float64(8), int64(4), object(9)\n",
      "memory usage: 492.3+ KB\n"
     ]
    }
   ],
   "source": [
    "td1.info()"
   ]
  },
  {
   "cell_type": "code",
   "execution_count": 86,
   "id": "99b4b249",
   "metadata": {
    "scrolled": true
   },
   "outputs": [
    {
     "name": "stdout",
     "output_type": "stream",
     "text": [
      "<class 'pandas.core.frame.DataFrame'>\n",
      "RangeIndex: 3000 entries, 0 to 2999\n",
      "Data columns (total 51 columns):\n",
      " #   Column                                    Non-Null Count  Dtype  \n",
      "---  ------                                    --------------  -----  \n",
      " 0   Age                                       3000 non-null   int64  \n",
      " 1   Income (USD)                              3000 non-null   float64\n",
      " 2   Loan Amount Request (USD)                 3000 non-null   float64\n",
      " 3   Current Loan Expenses (USD)               3000 non-null   float64\n",
      " 4   Dependents                                3000 non-null   float64\n",
      " 5   Credit Score                              3000 non-null   float64\n",
      " 6   No. of Defaults                           3000 non-null   int64  \n",
      " 7   Property ID                               3000 non-null   int64  \n",
      " 8   Property Age                              3000 non-null   float64\n",
      " 9   Property Type                             3000 non-null   int64  \n",
      " 10  Co-Applicant                              3000 non-null   float64\n",
      " 11  Property Price                            3000 non-null   float64\n",
      " 12  Gender_F                                  3000 non-null   uint8  \n",
      " 13  Gender_M                                  3000 non-null   uint8  \n",
      " 14  Income Stability_High                     3000 non-null   uint8  \n",
      " 15  Income Stability_Low                      3000 non-null   uint8  \n",
      " 16  Profession_Commercial associate           3000 non-null   uint8  \n",
      " 17  Profession_Pensioner                      3000 non-null   uint8  \n",
      " 18  Profession_State servant                  3000 non-null   uint8  \n",
      " 19  Profession_Working                        3000 non-null   uint8  \n",
      " 20  Type of Employment_Accountants            3000 non-null   uint8  \n",
      " 21  Type of Employment_Cleaning staff         3000 non-null   uint8  \n",
      " 22  Type of Employment_Cooking staff          3000 non-null   uint8  \n",
      " 23  Type of Employment_Core staff             3000 non-null   uint8  \n",
      " 24  Type of Employment_Drivers                3000 non-null   uint8  \n",
      " 25  Type of Employment_HR staff               3000 non-null   uint8  \n",
      " 26  Type of Employment_High skill tech staff  3000 non-null   uint8  \n",
      " 27  Type of Employment_IT staff               3000 non-null   uint8  \n",
      " 28  Type of Employment_Laborers               3000 non-null   uint8  \n",
      " 29  Type of Employment_Low-skill Laborers     3000 non-null   uint8  \n",
      " 30  Type of Employment_Managers               3000 non-null   uint8  \n",
      " 31  Type of Employment_Medicine staff         3000 non-null   uint8  \n",
      " 32  Type of Employment_Private service staff  3000 non-null   uint8  \n",
      " 33  Type of Employment_Realty agents          3000 non-null   uint8  \n",
      " 34  Type of Employment_Sales staff            3000 non-null   uint8  \n",
      " 35  Type of Employment_Secretaries            3000 non-null   uint8  \n",
      " 36  Type of Employment_Security staff         3000 non-null   uint8  \n",
      " 37  Type of Employment_Waiters/barmen staff   3000 non-null   uint8  \n",
      " 38  Location_Rural                            3000 non-null   uint8  \n",
      " 39  Location_Semi-Urban                       3000 non-null   uint8  \n",
      " 40  Location_Urban                            3000 non-null   uint8  \n",
      " 41  Expense Type 1_N                          3000 non-null   uint8  \n",
      " 42  Expense Type 1_Y                          3000 non-null   uint8  \n",
      " 43  Expense Type 2_N                          3000 non-null   uint8  \n",
      " 44  Expense Type 2_Y                          3000 non-null   uint8  \n",
      " 45  Has Active Credit Card_Active             3000 non-null   uint8  \n",
      " 46  Has Active Credit Card_Inactive           3000 non-null   uint8  \n",
      " 47  Has Active Credit Card_Unpossessed        3000 non-null   uint8  \n",
      " 48  Property Location_Rural                   3000 non-null   uint8  \n",
      " 49  Property Location_Semi-Urban              3000 non-null   uint8  \n",
      " 50  Property Location_Urban                   3000 non-null   uint8  \n",
      "dtypes: float64(8), int64(4), uint8(39)\n",
      "memory usage: 395.6 KB\n"
     ]
    }
   ],
   "source": [
    "col2 = td1.select_dtypes('object').columns.values\n",
    "col2\n",
    "x_test = pd.get_dummies(data=td1, columns=col2)\n",
    "x_test.info()"
   ]
  },
  {
   "cell_type": "code",
   "execution_count": 87,
   "id": "4c71ad5d",
   "metadata": {},
   "outputs": [
    {
     "name": "stdout",
     "output_type": "stream",
     "text": [
      "<class 'pandas.core.frame.DataFrame'>\n",
      "RangeIndex: 3000 entries, 0 to 2999\n",
      "Data columns (total 55 columns):\n",
      " #   Column                                    Non-Null Count  Dtype  \n",
      "---  ------                                    --------------  -----  \n",
      " 0   Age                                       3000 non-null   int64  \n",
      " 1   Income (USD)                              3000 non-null   float64\n",
      " 2   Loan Amount Request (USD)                 3000 non-null   float64\n",
      " 3   Current Loan Expenses (USD)               3000 non-null   float64\n",
      " 4   Dependents                                3000 non-null   float64\n",
      " 5   Credit Score                              3000 non-null   float64\n",
      " 6   No. of Defaults                           3000 non-null   int64  \n",
      " 7   Property ID                               3000 non-null   int64  \n",
      " 8   Property Age                              3000 non-null   float64\n",
      " 9   Property Type                             3000 non-null   int64  \n",
      " 10  Co-Applicant                              3000 non-null   float64\n",
      " 11  Property Price                            3000 non-null   float64\n",
      " 12  Gender_F                                  3000 non-null   uint8  \n",
      " 13  Gender_M                                  3000 non-null   uint8  \n",
      " 14  Income Stability_High                     3000 non-null   uint8  \n",
      " 15  Income Stability_Low                      3000 non-null   uint8  \n",
      " 16  Profession_Businessman                    3000 non-null   uint8  \n",
      " 17  Profession_Commercial associate           3000 non-null   uint8  \n",
      " 18  Profession_Maternity leave                3000 non-null   uint8  \n",
      " 19  Profession_Pensioner                      3000 non-null   uint8  \n",
      " 20  Profession_State servant                  3000 non-null   uint8  \n",
      " 21  Profession_Student                        3000 non-null   uint8  \n",
      " 22  Profession_Unemployed                     3000 non-null   uint8  \n",
      " 23  Profession_Working                        3000 non-null   uint8  \n",
      " 24  Type of Employment_Accountants            3000 non-null   uint8  \n",
      " 25  Type of Employment_Cleaning staff         3000 non-null   uint8  \n",
      " 26  Type of Employment_Cooking staff          3000 non-null   uint8  \n",
      " 27  Type of Employment_Core staff             3000 non-null   uint8  \n",
      " 28  Type of Employment_Drivers                3000 non-null   uint8  \n",
      " 29  Type of Employment_HR staff               3000 non-null   uint8  \n",
      " 30  Type of Employment_High skill tech staff  3000 non-null   uint8  \n",
      " 31  Type of Employment_IT staff               3000 non-null   uint8  \n",
      " 32  Type of Employment_Laborers               3000 non-null   uint8  \n",
      " 33  Type of Employment_Low-skill Laborers     3000 non-null   uint8  \n",
      " 34  Type of Employment_Managers               3000 non-null   uint8  \n",
      " 35  Type of Employment_Medicine staff         3000 non-null   uint8  \n",
      " 36  Type of Employment_Private service staff  3000 non-null   uint8  \n",
      " 37  Type of Employment_Realty agents          3000 non-null   uint8  \n",
      " 38  Type of Employment_Sales staff            3000 non-null   uint8  \n",
      " 39  Type of Employment_Secretaries            3000 non-null   uint8  \n",
      " 40  Type of Employment_Security staff         3000 non-null   uint8  \n",
      " 41  Type of Employment_Waiters/barmen staff   3000 non-null   uint8  \n",
      " 42  Location_Rural                            3000 non-null   uint8  \n",
      " 43  Location_Semi-Urban                       3000 non-null   uint8  \n",
      " 44  Location_Urban                            3000 non-null   uint8  \n",
      " 45  Expense Type 1_N                          3000 non-null   uint8  \n",
      " 46  Expense Type 1_Y                          3000 non-null   uint8  \n",
      " 47  Expense Type 2_N                          3000 non-null   uint8  \n",
      " 48  Expense Type 2_Y                          3000 non-null   uint8  \n",
      " 49  Has Active Credit Card_Active             3000 non-null   uint8  \n",
      " 50  Has Active Credit Card_Inactive           3000 non-null   uint8  \n",
      " 51  Has Active Credit Card_Unpossessed        3000 non-null   uint8  \n",
      " 52  Property Location_Rural                   3000 non-null   uint8  \n",
      " 53  Property Location_Semi-Urban              3000 non-null   uint8  \n",
      " 54  Property Location_Urban                   3000 non-null   uint8  \n",
      "dtypes: float64(8), int64(4), uint8(43)\n",
      "memory usage: 407.4 KB\n"
     ]
    }
   ],
   "source": [
    "x_test.insert(16, \"Profession_Businessman\", [0]*3000)\n",
    "x_test.insert(18, \"Profession_Maternity leave\", [0]*3000)\n",
    "x_test.insert(21, \"Profession_Student\", [0]*3000)\n",
    "x_test.insert(22, \"Profession_Unemployed\", [0]*3000)\n",
    "x_test['Profession_Businessman'] = x_test['Profession_Businessman'].astype(np.uint8)\n",
    "x_test['Profession_Maternity leave'] = x_test['Profession_Maternity leave'].astype(np.uint8)\n",
    "x_test['Profession_Student'] = x_test['Profession_Student'].astype(np.uint8)\n",
    "x_test['Profession_Unemployed'] = x_test['Profession_Unemployed'].astype(np.uint8)\n",
    "x_test.info()"
   ]
  },
  {
   "cell_type": "code",
   "execution_count": 88,
   "id": "c13a864d",
   "metadata": {},
   "outputs": [
    {
     "data": {
      "text/html": [
       "<div>\n",
       "<style scoped>\n",
       "    .dataframe tbody tr th:only-of-type {\n",
       "        vertical-align: middle;\n",
       "    }\n",
       "\n",
       "    .dataframe tbody tr th {\n",
       "        vertical-align: top;\n",
       "    }\n",
       "\n",
       "    .dataframe thead th {\n",
       "        text-align: right;\n",
       "    }\n",
       "</style>\n",
       "<table border=\"1\" class=\"dataframe\">\n",
       "  <thead>\n",
       "    <tr style=\"text-align: right;\">\n",
       "      <th></th>\n",
       "      <th>Customer_ID</th>\n",
       "      <th>0</th>\n",
       "    </tr>\n",
       "  </thead>\n",
       "  <tbody>\n",
       "    <tr>\n",
       "      <th>0</th>\n",
       "      <td>C-6692</td>\n",
       "      <td>58960.0</td>\n",
       "    </tr>\n",
       "    <tr>\n",
       "      <th>1</th>\n",
       "      <td>C-25987</td>\n",
       "      <td>185936.0</td>\n",
       "    </tr>\n",
       "    <tr>\n",
       "      <th>2</th>\n",
       "      <td>C-5051</td>\n",
       "      <td>140944.0</td>\n",
       "    </tr>\n",
       "    <tr>\n",
       "      <th>3</th>\n",
       "      <td>C-12745</td>\n",
       "      <td>112592.0</td>\n",
       "    </tr>\n",
       "    <tr>\n",
       "      <th>4</th>\n",
       "      <td>C-8292</td>\n",
       "      <td>22928.0</td>\n",
       "    </tr>\n",
       "    <tr>\n",
       "      <th>...</th>\n",
       "      <td>...</td>\n",
       "      <td>...</td>\n",
       "    </tr>\n",
       "    <tr>\n",
       "      <th>2995</th>\n",
       "      <td>C-11467</td>\n",
       "      <td>24720.0</td>\n",
       "    </tr>\n",
       "    <tr>\n",
       "      <th>2996</th>\n",
       "      <td>C-35487</td>\n",
       "      <td>158736.0</td>\n",
       "    </tr>\n",
       "    <tr>\n",
       "      <th>2997</th>\n",
       "      <td>C-23221</td>\n",
       "      <td>85136.0</td>\n",
       "    </tr>\n",
       "    <tr>\n",
       "      <th>2998</th>\n",
       "      <td>C-25999</td>\n",
       "      <td>129936.0</td>\n",
       "    </tr>\n",
       "    <tr>\n",
       "      <th>2999</th>\n",
       "      <td>C-41292</td>\n",
       "      <td>8016.0</td>\n",
       "    </tr>\n",
       "  </tbody>\n",
       "</table>\n",
       "<p>3000 rows × 2 columns</p>\n",
       "</div>"
      ],
      "text/plain": [
       "     Customer_ID         0\n",
       "0         C-6692   58960.0\n",
       "1        C-25987  185936.0\n",
       "2         C-5051  140944.0\n",
       "3        C-12745  112592.0\n",
       "4         C-8292   22928.0\n",
       "...          ...       ...\n",
       "2995     C-11467   24720.0\n",
       "2996     C-35487  158736.0\n",
       "2997     C-23221   85136.0\n",
       "2998     C-25999  129936.0\n",
       "2999     C-41292    8016.0\n",
       "\n",
       "[3000 rows x 2 columns]"
      ]
     },
     "execution_count": 88,
     "metadata": {},
     "output_type": "execute_result"
    }
   ],
   "source": [
    "x_test = scaler.fit_transform(x_test)\n",
    "y_pred = model.predict(x_test)\n",
    "result = pd.DataFrame(y_pred)\n",
    "result.insert(0, \"Customer_ID\", td['Customer ID'])\n",
    "result"
   ]
  },
  {
   "cell_type": "code",
   "execution_count": 103,
   "id": "22578f0e",
   "metadata": {},
   "outputs": [
    {
     "data": {
      "text/html": [
       "<div>\n",
       "<style scoped>\n",
       "    .dataframe tbody tr th:only-of-type {\n",
       "        vertical-align: middle;\n",
       "    }\n",
       "\n",
       "    .dataframe tbody tr th {\n",
       "        vertical-align: top;\n",
       "    }\n",
       "\n",
       "    .dataframe thead th {\n",
       "        text-align: right;\n",
       "    }\n",
       "</style>\n",
       "<table border=\"1\" class=\"dataframe\">\n",
       "  <thead>\n",
       "    <tr style=\"text-align: right;\">\n",
       "      <th></th>\n",
       "      <th>Customer_ID</th>\n",
       "      <th>Loan Amount</th>\n",
       "    </tr>\n",
       "  </thead>\n",
       "  <tbody>\n",
       "    <tr>\n",
       "      <th>0</th>\n",
       "      <td>C-6692</td>\n",
       "      <td>58960.0</td>\n",
       "    </tr>\n",
       "    <tr>\n",
       "      <th>1</th>\n",
       "      <td>C-25987</td>\n",
       "      <td>185936.0</td>\n",
       "    </tr>\n",
       "    <tr>\n",
       "      <th>2</th>\n",
       "      <td>C-5051</td>\n",
       "      <td>140944.0</td>\n",
       "    </tr>\n",
       "    <tr>\n",
       "      <th>3</th>\n",
       "      <td>C-12745</td>\n",
       "      <td>112592.0</td>\n",
       "    </tr>\n",
       "    <tr>\n",
       "      <th>4</th>\n",
       "      <td>C-8292</td>\n",
       "      <td>22928.0</td>\n",
       "    </tr>\n",
       "    <tr>\n",
       "      <th>...</th>\n",
       "      <td>...</td>\n",
       "      <td>...</td>\n",
       "    </tr>\n",
       "    <tr>\n",
       "      <th>2995</th>\n",
       "      <td>C-11467</td>\n",
       "      <td>24720.0</td>\n",
       "    </tr>\n",
       "    <tr>\n",
       "      <th>2996</th>\n",
       "      <td>C-35487</td>\n",
       "      <td>158736.0</td>\n",
       "    </tr>\n",
       "    <tr>\n",
       "      <th>2997</th>\n",
       "      <td>C-23221</td>\n",
       "      <td>85136.0</td>\n",
       "    </tr>\n",
       "    <tr>\n",
       "      <th>2998</th>\n",
       "      <td>C-25999</td>\n",
       "      <td>129936.0</td>\n",
       "    </tr>\n",
       "    <tr>\n",
       "      <th>2999</th>\n",
       "      <td>C-41292</td>\n",
       "      <td>8016.0</td>\n",
       "    </tr>\n",
       "  </tbody>\n",
       "</table>\n",
       "<p>3000 rows × 2 columns</p>\n",
       "</div>"
      ],
      "text/plain": [
       "     Customer_ID  Loan Amount\n",
       "0         C-6692      58960.0\n",
       "1        C-25987     185936.0\n",
       "2         C-5051     140944.0\n",
       "3        C-12745     112592.0\n",
       "4         C-8292      22928.0\n",
       "...          ...          ...\n",
       "2995     C-11467      24720.0\n",
       "2996     C-35487     158736.0\n",
       "2997     C-23221      85136.0\n",
       "2998     C-25999     129936.0\n",
       "2999     C-41292       8016.0\n",
       "\n",
       "[3000 rows x 2 columns]"
      ]
     },
     "execution_count": 103,
     "metadata": {},
     "output_type": "execute_result"
    }
   ],
   "source": [
    "result.rename(columns = {0 : 'Loan Amount'}, inplace = True)\n",
    "result"
   ]
  },
  {
   "cell_type": "code",
   "execution_count": 104,
   "id": "b378bbb1",
   "metadata": {},
   "outputs": [],
   "source": [
    "result.to_csv('19085436D.csv', index=False)"
   ]
  }
 ],
 "metadata": {
  "kernelspec": {
   "display_name": "Python 3 (ipykernel)",
   "language": "python",
   "name": "python3"
  },
  "language_info": {
   "codemirror_mode": {
    "name": "ipython",
    "version": 3
   },
   "file_extension": ".py",
   "mimetype": "text/x-python",
   "name": "python",
   "nbconvert_exporter": "python",
   "pygments_lexer": "ipython3",
   "version": "3.9.7"
  }
 },
 "nbformat": 4,
 "nbformat_minor": 5
}
